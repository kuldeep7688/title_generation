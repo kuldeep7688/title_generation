{
  "cells": [
    {
      "cell_type": "code",
      "source": [
        "from google.colab import drive\n",
        "drive.mount('/content/drive')"
      ],
      "metadata": {
        "colab": {
          "base_uri": "https://localhost:8080/"
        },
        "id": "NTT9DXLL1ORw",
        "outputId": "920bcc69-00a8-4e8d-d36a-48d943727f25"
      },
      "execution_count": 1,
      "outputs": [
        {
          "output_type": "stream",
          "name": "stdout",
          "text": [
            "Mounted at /content/drive\n"
          ]
        }
      ]
    },
    {
      "cell_type": "code",
      "execution_count": 2,
      "metadata": {
        "id": "9PbIbNP70_KE"
      },
      "outputs": [],
      "source": [
        "import re\n",
        "import random\n",
        "\n",
        "import torch\n",
        "import torch.nn as nn\n",
        "import torch.nn.functional as F\n",
        "from torch import optim\n",
        "    \n",
        "import torch\n",
        "from torch.utils import data\n",
        "\n",
        "import math\n",
        "from tqdm import tqdm\n",
        "import time\n",
        "\n",
        "import pandas as pd"
      ]
    },
    {
      "cell_type": "code",
      "execution_count": 3,
      "metadata": {
        "colab": {
          "base_uri": "https://localhost:8080/"
        },
        "id": "6n8Yo2qo0_KI",
        "outputId": "377b2b20-1bc7-4129-8ea5-a84341908a8f"
      },
      "outputs": [
        {
          "output_type": "execute_result",
          "data": {
            "text/plain": [
              "device(type='cpu')"
            ]
          },
          "metadata": {},
          "execution_count": 3
        }
      ],
      "source": [
        "# device = torch.device(\"cpu\")\n",
        "device = torch.device(\"cuda\" if torch.cuda.is_available() else \"cpu\")\n",
        "device"
      ]
    },
    {
      "cell_type": "code",
      "execution_count": 4,
      "metadata": {
        "id": "HddkudC00_KI"
      },
      "outputs": [],
      "source": [
        "SOS_token = 0\n",
        "EOS_token = 1\n",
        "PAD_token = 2\n",
        "UNK_TOKEN = 3\n",
        "CONTENT_MAX_LENGTH = 100\n",
        "TITLE_MAX_LENGTH = 8\n",
        "\n",
        "class Vocab:\n",
        "    def __init__(self, name):\n",
        "        self.name = name\n",
        "        self.word2index = {\"SOS\": 0, \"EOS\": 1, \"PAD\": 2, 'UNK':3}\n",
        "        self.index2word = {0: \"SOS\", 1: \"EOS\", 2: \"PAD\", 3: 'UNK'}\n",
        "        self.n_words = 3\n",
        "        self.word2count = {}\n",
        "    \n",
        "    def add_sentence(self, sentence):\n",
        "        for word in sentence.lower().split():\n",
        "            self.add_word(word)\n",
        "    \n",
        "    def add_word(self, word):\n",
        "        if word not in self.word2index.keys():\n",
        "            self.word2index[word] = self.n_words\n",
        "            self.index2word[self.n_words] = word\n",
        "            self.word2count[word] = 1\n",
        "            self.n_words += 1\n",
        "        else:\n",
        "            self.word2count[word] += 1\n",
        "    \n",
        "    def to_json(self, file_path):\n",
        "        pass\n",
        "    \n",
        "    def read_from_json(self, file_path):\n",
        "        pass"
      ]
    },
    {
      "cell_type": "code",
      "execution_count": 5,
      "metadata": {
        "colab": {
          "base_uri": "https://localhost:8080/"
        },
        "id": "0N3pF9_c0_KJ",
        "outputId": "cc0a0f4a-af9d-4074-95d0-1f02736430a3"
      },
      "outputs": [
        {
          "output_type": "execute_result",
          "data": {
            "text/plain": [
              "((1977, 4), (349, 4))"
            ]
          },
          "metadata": {},
          "execution_count": 5
        }
      ],
      "source": [
        "train_df = pd.read_csv('/content/drive/MyDrive/MSU NLP/Final Project/train_split.csv')\n",
        "test_df = pd.read_csv('/content/drive/MyDrive/MSU NLP/Final Project/test_split.csv')\n",
        "train_df.shape, test_df.shape"
      ]
    },
    {
      "cell_type": "code",
      "execution_count": 6,
      "metadata": {
        "colab": {
          "base_uri": "https://localhost:8080/",
          "height": 206
        },
        "id": "VKM0-_5Q0_KK",
        "outputId": "05732bec-1f18-44ce-cf8e-ea09f62f2aa8"
      },
      "outputs": [
        {
          "output_type": "execute_result",
          "data": {
            "text/plain": [
              "                                           file_path          class  \\\n",
              "0  /media/kuldeep/Work/college_stuff/courses/cse_...  entertainment   \n",
              "1  /media/kuldeep/Work/college_stuff/courses/cse_...       politics   \n",
              "2  /media/kuldeep/Work/college_stuff/courses/cse_...          sport   \n",
              "3  /media/kuldeep/Work/college_stuff/courses/cse_...       business   \n",
              "4  /media/kuldeep/Work/college_stuff/courses/cse_...  entertainment   \n",
              "\n",
              "                               title  \\\n",
              "0  Elton plays Paris charity concert   \n",
              "1  Defiant hunts put ban to the test   \n",
              "2    Injury doubts beset Wales squad   \n",
              "3  Bombardier chief to leave company   \n",
              "4  EastEnders 'is set for US remake'   \n",
              "\n",
              "                                             content  \n",
              "0  Sir Elton John has performed at a special conc...  \n",
              "1  Thousands of hunt supporters have been out on ...  \n",
              "2  Wales have a clutch of injury worries before W...  \n",
              "3  Shares in train and plane-making giant Bombard...  \n",
              "4  Plans to create a US soap based on the BBC's E...  "
            ],
            "text/html": [
              "\n",
              "  <div id=\"df-359e7f32-c3ef-4957-82b2-711a0df4e372\">\n",
              "    <div class=\"colab-df-container\">\n",
              "      <div>\n",
              "<style scoped>\n",
              "    .dataframe tbody tr th:only-of-type {\n",
              "        vertical-align: middle;\n",
              "    }\n",
              "\n",
              "    .dataframe tbody tr th {\n",
              "        vertical-align: top;\n",
              "    }\n",
              "\n",
              "    .dataframe thead th {\n",
              "        text-align: right;\n",
              "    }\n",
              "</style>\n",
              "<table border=\"1\" class=\"dataframe\">\n",
              "  <thead>\n",
              "    <tr style=\"text-align: right;\">\n",
              "      <th></th>\n",
              "      <th>file_path</th>\n",
              "      <th>class</th>\n",
              "      <th>title</th>\n",
              "      <th>content</th>\n",
              "    </tr>\n",
              "  </thead>\n",
              "  <tbody>\n",
              "    <tr>\n",
              "      <th>0</th>\n",
              "      <td>/media/kuldeep/Work/college_stuff/courses/cse_...</td>\n",
              "      <td>entertainment</td>\n",
              "      <td>Elton plays Paris charity concert</td>\n",
              "      <td>Sir Elton John has performed at a special conc...</td>\n",
              "    </tr>\n",
              "    <tr>\n",
              "      <th>1</th>\n",
              "      <td>/media/kuldeep/Work/college_stuff/courses/cse_...</td>\n",
              "      <td>politics</td>\n",
              "      <td>Defiant hunts put ban to the test</td>\n",
              "      <td>Thousands of hunt supporters have been out on ...</td>\n",
              "    </tr>\n",
              "    <tr>\n",
              "      <th>2</th>\n",
              "      <td>/media/kuldeep/Work/college_stuff/courses/cse_...</td>\n",
              "      <td>sport</td>\n",
              "      <td>Injury doubts beset Wales squad</td>\n",
              "      <td>Wales have a clutch of injury worries before W...</td>\n",
              "    </tr>\n",
              "    <tr>\n",
              "      <th>3</th>\n",
              "      <td>/media/kuldeep/Work/college_stuff/courses/cse_...</td>\n",
              "      <td>business</td>\n",
              "      <td>Bombardier chief to leave company</td>\n",
              "      <td>Shares in train and plane-making giant Bombard...</td>\n",
              "    </tr>\n",
              "    <tr>\n",
              "      <th>4</th>\n",
              "      <td>/media/kuldeep/Work/college_stuff/courses/cse_...</td>\n",
              "      <td>entertainment</td>\n",
              "      <td>EastEnders 'is set for US remake'</td>\n",
              "      <td>Plans to create a US soap based on the BBC's E...</td>\n",
              "    </tr>\n",
              "  </tbody>\n",
              "</table>\n",
              "</div>\n",
              "      <button class=\"colab-df-convert\" onclick=\"convertToInteractive('df-359e7f32-c3ef-4957-82b2-711a0df4e372')\"\n",
              "              title=\"Convert this dataframe to an interactive table.\"\n",
              "              style=\"display:none;\">\n",
              "        \n",
              "  <svg xmlns=\"http://www.w3.org/2000/svg\" height=\"24px\"viewBox=\"0 0 24 24\"\n",
              "       width=\"24px\">\n",
              "    <path d=\"M0 0h24v24H0V0z\" fill=\"none\"/>\n",
              "    <path d=\"M18.56 5.44l.94 2.06.94-2.06 2.06-.94-2.06-.94-.94-2.06-.94 2.06-2.06.94zm-11 1L8.5 8.5l.94-2.06 2.06-.94-2.06-.94L8.5 2.5l-.94 2.06-2.06.94zm10 10l.94 2.06.94-2.06 2.06-.94-2.06-.94-.94-2.06-.94 2.06-2.06.94z\"/><path d=\"M17.41 7.96l-1.37-1.37c-.4-.4-.92-.59-1.43-.59-.52 0-1.04.2-1.43.59L10.3 9.45l-7.72 7.72c-.78.78-.78 2.05 0 2.83L4 21.41c.39.39.9.59 1.41.59.51 0 1.02-.2 1.41-.59l7.78-7.78 2.81-2.81c.8-.78.8-2.07 0-2.86zM5.41 20L4 18.59l7.72-7.72 1.47 1.35L5.41 20z\"/>\n",
              "  </svg>\n",
              "      </button>\n",
              "      \n",
              "  <style>\n",
              "    .colab-df-container {\n",
              "      display:flex;\n",
              "      flex-wrap:wrap;\n",
              "      gap: 12px;\n",
              "    }\n",
              "\n",
              "    .colab-df-convert {\n",
              "      background-color: #E8F0FE;\n",
              "      border: none;\n",
              "      border-radius: 50%;\n",
              "      cursor: pointer;\n",
              "      display: none;\n",
              "      fill: #1967D2;\n",
              "      height: 32px;\n",
              "      padding: 0 0 0 0;\n",
              "      width: 32px;\n",
              "    }\n",
              "\n",
              "    .colab-df-convert:hover {\n",
              "      background-color: #E2EBFA;\n",
              "      box-shadow: 0px 1px 2px rgba(60, 64, 67, 0.3), 0px 1px 3px 1px rgba(60, 64, 67, 0.15);\n",
              "      fill: #174EA6;\n",
              "    }\n",
              "\n",
              "    [theme=dark] .colab-df-convert {\n",
              "      background-color: #3B4455;\n",
              "      fill: #D2E3FC;\n",
              "    }\n",
              "\n",
              "    [theme=dark] .colab-df-convert:hover {\n",
              "      background-color: #434B5C;\n",
              "      box-shadow: 0px 1px 3px 1px rgba(0, 0, 0, 0.15);\n",
              "      filter: drop-shadow(0px 1px 2px rgba(0, 0, 0, 0.3));\n",
              "      fill: #FFFFFF;\n",
              "    }\n",
              "  </style>\n",
              "\n",
              "      <script>\n",
              "        const buttonEl =\n",
              "          document.querySelector('#df-359e7f32-c3ef-4957-82b2-711a0df4e372 button.colab-df-convert');\n",
              "        buttonEl.style.display =\n",
              "          google.colab.kernel.accessAllowed ? 'block' : 'none';\n",
              "\n",
              "        async function convertToInteractive(key) {\n",
              "          const element = document.querySelector('#df-359e7f32-c3ef-4957-82b2-711a0df4e372');\n",
              "          const dataTable =\n",
              "            await google.colab.kernel.invokeFunction('convertToInteractive',\n",
              "                                                     [key], {});\n",
              "          if (!dataTable) return;\n",
              "\n",
              "          const docLinkHtml = 'Like what you see? Visit the ' +\n",
              "            '<a target=\"_blank\" href=https://colab.research.google.com/notebooks/data_table.ipynb>data table notebook</a>'\n",
              "            + ' to learn more about interactive tables.';\n",
              "          element.innerHTML = '';\n",
              "          dataTable['output_type'] = 'display_data';\n",
              "          await google.colab.output.renderOutput(dataTable, element);\n",
              "          const docLink = document.createElement('div');\n",
              "          docLink.innerHTML = docLinkHtml;\n",
              "          element.appendChild(docLink);\n",
              "        }\n",
              "      </script>\n",
              "    </div>\n",
              "  </div>\n",
              "  "
            ]
          },
          "metadata": {},
          "execution_count": 6
        }
      ],
      "source": [
        "train_df.head()"
      ]
    },
    {
      "cell_type": "code",
      "execution_count": 7,
      "metadata": {
        "id": "n6bHRUc-0_KK"
      },
      "outputs": [],
      "source": [
        "def normalize_string(s):\n",
        "    s = s.lower().strip()\n",
        "    s = re.sub(r\"([.!?])\", r\" \\1\", s)\n",
        "    s = re.sub(r\"[^a-zA-Z.!?]+\", r\" \", s)\n",
        "    return s\n",
        "\n",
        "\n",
        "def prepare_data(\n",
        "    file_path, context_max_length=CONTENT_MAX_LENGTH, \n",
        "    title_max_length=TITLE_MAX_LENGTH\n",
        "):\n",
        "    df = pd.read_csv(file_path)\n",
        "    pairs = []\n",
        "    for _, row in df.iterrows():\n",
        "        pairs.append(\n",
        "            [\n",
        "                row['title'], row['content']\n",
        "            ]\n",
        "        )\n",
        "    print(\"{} titles and content read.\".format(len(pairs)))\n",
        "    pairs = [[normalize_string(p[0]), normalize_string(p[1])] for p in pairs]\n",
        "\n",
        "    return pairs\n",
        "\n",
        "def populate_vocab(vocab, pairs):\n",
        "    for ti, co in pairs:\n",
        "        vocab.add_sentence(co)\n",
        "    return"
      ]
    },
    {
      "cell_type": "code",
      "execution_count": 8,
      "metadata": {
        "tags": [],
        "colab": {
          "base_uri": "https://localhost:8080/"
        },
        "id": "txqboyY80_KK",
        "outputId": "d10aa3af-2d5a-48c9-8d42-f5d54a7b013e"
      },
      "outputs": [
        {
          "output_type": "stream",
          "name": "stdout",
          "text": [
            "1977 titles and content read.\n",
            "['eu software patent law delayed', 'controversial new eu rules for the patenting of computer based inventions have been put on hold due to a last minute intervention from poland . poland a large and therefore crucial eu member has requested more time to consider the issue especially as it relates to the patenting of software . critics say the law would favour large companies over small innovative ones . they say it could have massive ramifications for developments such as open source software . polish ministers want to see the phrasing of the text of the directive on the patentability of computer implemented inventions changed so that it excludes the patenting of software . the planned law has ignited angry debate about whether the eu should allow the patenting of computer programs and internet business methods as currently happens in the us . so for instance us based amazon .com holds a patent on one click shopping . critics claim the law which the eu says is needed to harmonise with the us is little more than a law on ideas . patent rights it is claimed protect inventors but in this case it is exclusively the interests of the big companies that are protected eva lichtenberg a austrian green member of the european parliament said in a statement . smaller innovative firms cannot afford the patenting and legal costs that the directive would inflict on them she added . the european parliament has already clashed with the european union on the issue and there have been accusations that the process to decide the issue has been undemocratic . the directive has been subject to several previous delays .']\n"
          ]
        }
      ],
      "source": [
        "train_pairs = prepare_data('/content/drive/MyDrive/MSU NLP/Final Project/train_split.csv')\n",
        "print(random.choice(train_pairs))"
      ]
    },
    {
      "cell_type": "markdown",
      "source": [
        "\\<Extractive Summarization\\>"
      ],
      "metadata": {
        "id": "PgtNO3Cqgfh4"
      }
    },
    {
      "cell_type": "markdown",
      "source": [
        "Gensim"
      ],
      "metadata": {
        "id": "SlHU-vxwm7Rc"
      }
    },
    {
      "cell_type": "code",
      "source": [
        "th1, th2 = 5, 3"
      ],
      "metadata": {
        "id": "pGSn96Ozp5nw"
      },
      "execution_count": 102,
      "outputs": []
    },
    {
      "cell_type": "code",
      "source": [
        "train_pairs[0]"
      ],
      "metadata": {
        "colab": {
          "base_uri": "https://localhost:8080/"
        },
        "id": "z64PvQtbiDnX",
        "outputId": "4171e741-54c5-4445-9a3d-ca248fdf8b13"
      },
      "execution_count": 103,
      "outputs": [
        {
          "output_type": "execute_result",
          "data": {
            "text/plain": [
              "['elton plays paris charity concert',\n",
              " 'sir elton john has performed at a special concert in paris to raise money for the victims of the asian tsunami . the british singer played to a strong audience on sunday at the french capital s bastille opera house . the concert was also part of an attempt to bring a broader range of events to the famous venue . money raised will go to the fondation pour l enfance foundation for childhood which aims to rebuild a children s shelter in sri lanka . sir elton played hits from his vast back catalogue to a sell out crowd which included former french president valery giscard d estaing and his wife anne aymone . the veteran pop star played piano accompaniment throughout the concert which lasted for three hours without an interval . he told the crowd throughout the years i ve done a lot of drugs and alcohol . it s true that i was a nightmare impossible . for the last years i ve been normal . now my drug is called david a reference to david furnish his partner . the crowd who greeted each song with a standing ovation also included french singer charles aznavour and british ambassador sir john holmes . sir elton has also teamed up with phil collins to record a version of eric clapton s hit tears in heaven to raise money for the relief fund . a release date has yet to be set for the recording which was organised by sharon osbourne .']"
            ]
          },
          "metadata": {},
          "execution_count": 103
        }
      ]
    },
    {
      "cell_type": "code",
      "source": [
        "from gensim.summarization.summarizer import summarize\n",
        "from gensim.summarization import keywords\n",
        "import en_core_web_sm\n",
        "\n",
        "stitle, sbody = train_pairs[0]\n",
        "\n",
        "summ = summarize(sbody, ratio=0.2, word_count=th1*50)\n",
        "print(summ)"
      ],
      "metadata": {
        "colab": {
          "base_uri": "https://localhost:8080/"
        },
        "id": "DxN2r9JQfchy",
        "outputId": "436eda1c-4c3c-42ba-ea74-924bdc94374c"
      },
      "execution_count": 104,
      "outputs": [
        {
          "output_type": "stream",
          "name": "stdout",
          "text": [
            "sir elton john has performed at a special concert in paris to raise money for the victims of the asian tsunami .\n",
            "the british singer played to a strong audience on sunday at the french capital s bastille opera house .\n",
            "the concert was also part of an attempt to bring a broader range of events to the famous venue .\n",
            "money raised will go to the fondation pour l enfance foundation for childhood which aims to rebuild a children s shelter in sri lanka .\n",
            "sir elton played hits from his vast back catalogue to a sell out crowd which included former french president valery giscard d estaing and his wife anne aymone .\n",
            "the veteran pop star played piano accompaniment throughout the concert which lasted for three hours without an interval .\n",
            "he told the crowd throughout the years i ve done a lot of drugs and alcohol .\n",
            "it s true that i was a nightmare impossible .\n",
            "for the last years i ve been normal .\n",
            "now my drug is called david a reference to david furnish his partner .\n",
            "the crowd who greeted each song with a standing ovation also included french singer charles aznavour and british ambassador sir john holmes .\n",
            "sir elton has also teamed up with phil collins to record a version of eric clapton s hit tears in heaven to raise money for the relief fund .\n",
            "a release date has yet to be set for the recording which was organised by sharon osbourne .\n"
          ]
        }
      ]
    },
    {
      "cell_type": "markdown",
      "source": [
        "Lex Rank"
      ],
      "metadata": {
        "id": "PCvfNQFKm82u"
      }
    },
    {
      "cell_type": "code",
      "source": [
        "!pip install sumy"
      ],
      "metadata": {
        "colab": {
          "base_uri": "https://localhost:8080/"
        },
        "id": "a5PZN2mRkYws",
        "outputId": "bcddde17-bce0-47c0-8735-fa9789d6e62d"
      },
      "execution_count": 105,
      "outputs": [
        {
          "output_type": "stream",
          "name": "stdout",
          "text": [
            "Looking in indexes: https://pypi.org/simple, https://us-python.pkg.dev/colab-wheels/public/simple/\n",
            "Requirement already satisfied: sumy in /usr/local/lib/python3.7/dist-packages (0.11.0)\n",
            "Requirement already satisfied: nltk>=3.0.2 in /usr/local/lib/python3.7/dist-packages (from sumy) (3.7)\n",
            "Requirement already satisfied: breadability>=0.1.20 in /usr/local/lib/python3.7/dist-packages (from sumy) (0.1.20)\n",
            "Requirement already satisfied: pycountry>=18.2.23 in /usr/local/lib/python3.7/dist-packages (from sumy) (22.3.5)\n",
            "Requirement already satisfied: requests>=2.7.0 in /usr/local/lib/python3.7/dist-packages (from sumy) (2.23.0)\n",
            "Requirement already satisfied: docopt<0.7,>=0.6.1 in /usr/local/lib/python3.7/dist-packages (from sumy) (0.6.2)\n",
            "Requirement already satisfied: lxml>=2.0 in /usr/local/lib/python3.7/dist-packages (from breadability>=0.1.20->sumy) (4.9.1)\n",
            "Requirement already satisfied: chardet in /usr/local/lib/python3.7/dist-packages (from breadability>=0.1.20->sumy) (3.0.4)\n",
            "Requirement already satisfied: joblib in /usr/local/lib/python3.7/dist-packages (from nltk>=3.0.2->sumy) (1.2.0)\n",
            "Requirement already satisfied: click in /usr/local/lib/python3.7/dist-packages (from nltk>=3.0.2->sumy) (7.1.2)\n",
            "Requirement already satisfied: regex>=2021.8.3 in /usr/local/lib/python3.7/dist-packages (from nltk>=3.0.2->sumy) (2022.6.2)\n",
            "Requirement already satisfied: tqdm in /usr/local/lib/python3.7/dist-packages (from nltk>=3.0.2->sumy) (4.64.1)\n",
            "Requirement already satisfied: setuptools in /usr/local/lib/python3.7/dist-packages (from pycountry>=18.2.23->sumy) (57.4.0)\n",
            "Requirement already satisfied: urllib3!=1.25.0,!=1.25.1,<1.26,>=1.21.1 in /usr/local/lib/python3.7/dist-packages (from requests>=2.7.0->sumy) (1.24.3)\n",
            "Requirement already satisfied: certifi>=2017.4.17 in /usr/local/lib/python3.7/dist-packages (from requests>=2.7.0->sumy) (2022.9.24)\n",
            "Requirement already satisfied: idna<3,>=2.5 in /usr/local/lib/python3.7/dist-packages (from requests>=2.7.0->sumy) (2.10)\n"
          ]
        }
      ]
    },
    {
      "cell_type": "code",
      "source": [
        "!pip install nltk\n",
        "import nltk\n",
        "nltk.download('punkt')"
      ],
      "metadata": {
        "colab": {
          "base_uri": "https://localhost:8080/"
        },
        "id": "i98-hIDPmOtS",
        "outputId": "56721616-b228-4dac-a3bf-cf038810ea3d"
      },
      "execution_count": 99,
      "outputs": [
        {
          "output_type": "stream",
          "name": "stdout",
          "text": [
            "Looking in indexes: https://pypi.org/simple, https://us-python.pkg.dev/colab-wheels/public/simple/\n",
            "Requirement already satisfied: nltk in /usr/local/lib/python3.7/dist-packages (3.7)\n",
            "Requirement already satisfied: click in /usr/local/lib/python3.7/dist-packages (from nltk) (7.1.2)\n",
            "Requirement already satisfied: regex>=2021.8.3 in /usr/local/lib/python3.7/dist-packages (from nltk) (2022.6.2)\n",
            "Requirement already satisfied: tqdm in /usr/local/lib/python3.7/dist-packages (from nltk) (4.64.1)\n",
            "Requirement already satisfied: joblib in /usr/local/lib/python3.7/dist-packages (from nltk) (1.2.0)\n"
          ]
        },
        {
          "output_type": "stream",
          "name": "stderr",
          "text": [
            "[nltk_data] Downloading package punkt to /root/nltk_data...\n",
            "[nltk_data]   Package punkt is already up-to-date!\n"
          ]
        },
        {
          "output_type": "execute_result",
          "data": {
            "text/plain": [
              "True"
            ]
          },
          "metadata": {},
          "execution_count": 99
        }
      ]
    },
    {
      "cell_type": "code",
      "source": [
        "from sumy.summarizers.lex_rank import LexRankSummarizer\n",
        "from sumy.parsers.plaintext import PlaintextParser as pp\n",
        "from sumy.nlp.tokenizers import Tokenizer\n",
        "\n",
        "stitle, sbody = train_pairs[0]\n",
        "sbody = pp.from_string(sbody, Tokenizer('english'))\n",
        "lrs = LexRankSummarizer()\n",
        "summ = lrs(sbody.document, th1)\n",
        "for sentence in summ:\n",
        "    print(sentence)"
      ],
      "metadata": {
        "colab": {
          "base_uri": "https://localhost:8080/"
        },
        "id": "90eJ3yuikRpn",
        "outputId": "dfa8f48f-c2cd-46de-e99e-2760ec1b016c"
      },
      "execution_count": 106,
      "outputs": [
        {
          "output_type": "stream",
          "name": "stdout",
          "text": [
            "sir elton john has performed at a special concert in paris to raise money for the victims of the asian tsunami .\n",
            "the concert was also part of an attempt to bring a broader range of events to the famous venue .\n",
            "money raised will go to the fondation pour l enfance foundation for childhood which aims to rebuild a children s shelter in sri lanka .\n",
            "the veteran pop star played piano accompaniment throughout the concert which lasted for three hours without an interval .\n",
            "the crowd who greeted each song with a standing ovation also included french singer charles aznavour and british ambassador sir john holmes .\n"
          ]
        }
      ]
    },
    {
      "cell_type": "markdown",
      "source": [
        "Luhn"
      ],
      "metadata": {
        "id": "k8wZYDDGnATX"
      }
    },
    {
      "cell_type": "code",
      "source": [
        "from sumy.summarizers.luhn import LuhnSummarizer\n",
        "from sumy.parsers.plaintext import PlaintextParser as pp\n",
        "from sumy.nlp.tokenizers import Tokenizer\n",
        "\n",
        "stitle, sbody = train_pairs[0]\n",
        "sbody = pp.from_string(sbody, Tokenizer('english'))\n",
        "luhn = LuhnSummarizer()\n",
        "summ = luhn(sbody.document, th1)\n",
        "for sentence in summ:\n",
        " print(sentence)"
      ],
      "metadata": {
        "colab": {
          "base_uri": "https://localhost:8080/"
        },
        "id": "cIIKcqALnFDO",
        "outputId": "c774fb3a-620b-4532-eb9d-3c6d3283ad88"
      },
      "execution_count": 107,
      "outputs": [
        {
          "output_type": "stream",
          "name": "stdout",
          "text": [
            "sir elton john has performed at a special concert in paris to raise money for the victims of the asian tsunami .\n",
            "the concert was also part of an attempt to bring a broader range of events to the famous venue .\n",
            "he told the crowd throughout the years i ve done a lot of drugs and alcohol .\n",
            "the crowd who greeted each song with a standing ovation also included french singer charles aznavour and british ambassador sir john holmes .\n",
            "sir elton has also teamed up with phil collins to record a version of eric clapton s hit tears in heaven to raise money for the relief fund .\n"
          ]
        }
      ]
    },
    {
      "cell_type": "markdown",
      "source": [
        "Latent Semantic Analysis (LSA)"
      ],
      "metadata": {
        "id": "dSJZJIp7oPjb"
      }
    },
    {
      "cell_type": "code",
      "source": [
        "from sumy.summarizers.lsa import LsaSummarizer\n",
        "from sumy.parsers.plaintext import PlaintextParser as pp\n",
        "from sumy.nlp.tokenizers import Tokenizer\n",
        "\n",
        "stitle, sbody = train_pairs[0]\n",
        "sbody = pp.from_string(sbody, Tokenizer('english'))\n",
        "lsa = LsaSummarizer()\n",
        "summ = lsa(sbody.document, th1)\n",
        "for sentence in summ:\n",
        "    print(sentence)"
      ],
      "metadata": {
        "colab": {
          "base_uri": "https://localhost:8080/"
        },
        "id": "MfS52tA4oS3D",
        "outputId": "f6aeb0c1-5a78-4feb-d1c4-b757fabeca47"
      },
      "execution_count": 108,
      "outputs": [
        {
          "output_type": "stream",
          "name": "stdout",
          "text": [
            "money raised will go to the fondation pour l enfance foundation for childhood which aims to rebuild a children s shelter in sri lanka .\n",
            "sir elton played hits from his vast back catalogue to a sell out crowd which included former french president valery giscard d estaing and his wife anne aymone .\n",
            "the crowd who greeted each song with a standing ovation also included french singer charles aznavour and british ambassador sir john holmes .\n",
            "sir elton has also teamed up with phil collins to record a version of eric clapton s hit tears in heaven to raise money for the relief fund .\n",
            "a release date has yet to be set for the recording which was organised by sharon osbourne .\n"
          ]
        }
      ]
    },
    {
      "cell_type": "markdown",
      "source": [
        "Text Rank"
      ],
      "metadata": {
        "id": "NbDquYlbphod"
      }
    },
    {
      "cell_type": "code",
      "source": [
        "from sumy.summarizers.text_rank import TextRankSummarizer\n",
        "from sumy.parsers.plaintext import PlaintextParser as pp\n",
        "from sumy.nlp.tokenizers import Tokenizer\n",
        "\n",
        "stitle, sbody = train_pairs[0]\n",
        "sbody = pp.from_string(sbody, Tokenizer('english'))\n",
        "textrank = TextRankSummarizer()\n",
        "summ = textrank(sbody.document, th1)\n",
        "for sentence in summ:\n",
        "    print(sentence)"
      ],
      "metadata": {
        "colab": {
          "base_uri": "https://localhost:8080/"
        },
        "id": "Zu6J34oAomXY",
        "outputId": "1c1db4b6-2867-47d6-8cd8-dfde54921e61"
      },
      "execution_count": 109,
      "outputs": [
        {
          "output_type": "stream",
          "name": "stdout",
          "text": [
            "sir elton john has performed at a special concert in paris to raise money for the victims of the asian tsunami .\n",
            "the british singer played to a strong audience on sunday at the french capital s bastille opera house .\n",
            "the concert was also part of an attempt to bring a broader range of events to the famous venue .\n",
            "money raised will go to the fondation pour l enfance foundation for childhood which aims to rebuild a children s shelter in sri lanka .\n",
            "sir elton has also teamed up with phil collins to record a version of eric clapton s hit tears in heaven to raise money for the relief fund .\n"
          ]
        }
      ]
    },
    {
      "cell_type": "markdown",
      "source": [
        "All together"
      ],
      "metadata": {
        "id": "APPapSkyqYkq"
      }
    },
    {
      "cell_type": "code",
      "source": [
        "from gensim.summarization.summarizer import summarize\n",
        "from sumy.summarizers.lex_rank import LexRankSummarizer\n",
        "from sumy.summarizers.luhn import LuhnSummarizer\n",
        "from sumy.summarizers.lsa import LsaSummarizer\n",
        "from sumy.summarizers.text_rank import TextRankSummarizer\n",
        "from sumy.parsers.plaintext import PlaintextParser as pp\n",
        "from sumy.nlp.tokenizers import Tokenizer\n",
        "\n",
        "\n",
        "def short_summary(stitle, sbody, th1, th2, list_output=False):\n",
        "    summGS = summarize(sbody, ratio=0.2, word_count=th1*25)\n",
        "    summGS = [each + '.' for each in summGS.split('.')[:-1]]\n",
        "\n",
        "    sbody = pp.from_string(sbody, Tokenizer('english'))\n",
        "    lrs = LexRankSummarizer()\n",
        "    summLRS = lrs(sbody.document, th1)\n",
        "    summLRS = [str(each) for each in summLRS]\n",
        "    luhn = LuhnSummarizer()\n",
        "    summLUHN = luhn(sbody.document, th1)\n",
        "    summLUHN = [str(each) for each in summLUHN]\n",
        "    lsa = LsaSummarizer()\n",
        "    summLSA = lsa(sbody.document, th1)\n",
        "    summLSA = [str(each) for each in summLSA]\n",
        "    textrank = TextRankSummarizer()\n",
        "    summTR = textrank(sbody.document, th1)\n",
        "    summTR = [str(each) for each in summTR]\n",
        "\n",
        "    summaries = [summGS, summLRS, summLUHN, summLSA, summTR]\n",
        "    sents = dict()\n",
        "\n",
        "    for summ in summaries:\n",
        "        for i, sent in enumerate(summ):\n",
        "            if sent not in sents:\n",
        "                sents[sent] = len(summ) - i\n",
        "            else:\n",
        "                sents[sent] = sents[sent] * (len(summ) - i)\n",
        "\n",
        "    sents = dict(sorted(sents.items(), key=lambda x: x[1], reverse=True))\n",
        "\n",
        "    if list_output:\n",
        "        return list(sents.keys())[:th2]\n",
        "    else:\n",
        "        return ' '.join(list(sents.keys())[:th2])\n",
        "\n",
        "stitle, sbody = train_pairs[0]\n",
        "short_summary(stitle, sbody, th1, th2, list_output=True)"
      ],
      "metadata": {
        "colab": {
          "base_uri": "https://localhost:8080/"
        },
        "id": "HrmkixKjqU_Y",
        "outputId": "db2b3125-425c-43ee-8d6a-4373e13e5739"
      },
      "execution_count": 133,
      "outputs": [
        {
          "output_type": "execute_result",
          "data": {
            "text/plain": [
              "['sir elton john has performed at a special concert in paris to raise money for the victims of the asian tsunami .',\n",
              " 'the concert was also part of an attempt to bring a broader range of events to the famous venue .',\n",
              " 'money raised will go to the fondation pour l enfance foundation for childhood which aims to rebuild a children s shelter in sri lanka .']"
            ]
          },
          "metadata": {},
          "execution_count": 133
        }
      ]
    },
    {
      "cell_type": "markdown",
      "source": [
        "\\</Extractive Summarization\\>"
      ],
      "metadata": {
        "id": "_B5RrMs4gkYg"
      }
    },
    {
      "cell_type": "code",
      "source": [],
      "metadata": {
        "id": "gnWH33nBvoKq"
      },
      "execution_count": null,
      "outputs": []
    }
  ],
  "metadata": {
    "kernelspec": {
      "display_name": "pytorch",
      "language": "python",
      "name": "pytorch"
    },
    "language_info": {
      "codemirror_mode": {
        "name": "ipython",
        "version": 3
      },
      "file_extension": ".py",
      "mimetype": "text/x-python",
      "name": "python",
      "nbconvert_exporter": "python",
      "pygments_lexer": "ipython3",
      "version": "3.9.12"
    },
    "colab": {
      "provenance": []
    }
  },
  "nbformat": 4,
  "nbformat_minor": 0
}